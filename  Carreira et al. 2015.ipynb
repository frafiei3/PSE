{
 "cells": [
  {
   "cell_type": "markdown",
   "metadata": {},
   "source": [
    "## Automatic Detection of Flashing Video Content"
   ]
  },
  {
   "cell_type": "code",
   "execution_count": 1,
   "metadata": {},
   "outputs": [],
   "source": [
    "import numpy as np\n",
    "from scipy import misc\n",
    "from scipy.signal import argrelextrema\n",
    "import cv2\n",
    "import matplotlib.pyplot as plt\n",
    "from os import listdir, remove\n",
    "from os.path import isfile, join\n",
    "\n",
    "image_format = \".jpg\""
   ]
  },
  {
   "cell_type": "markdown",
   "metadata": {},
   "source": [
    "#### Convert the video into images"
   ]
  },
  {
   "cell_type": "code",
   "execution_count": 3,
   "metadata": {},
   "outputs": [],
   "source": [
    "# Load video\n",
    "vidcap = cv2.VideoCapture('pokemon.mp4')\n",
    "\n",
    "# Function to do the conversion\n",
    "def getFrame(sec):\n",
    "    vidcap.set(cv2.CAP_PROP_POS_MSEC,sec*1000)\n",
    "    hasFrames,image = vidcap.read()\n",
    "    if hasFrames:\n",
    "        cv2.imwrite(\"Converted Images/image\" + str(count) + image_format, image)     # save frame as JPG file\n",
    "    return hasFrames\n",
    "\n",
    "# Start converting the video\n",
    "sec = 0\n",
    "frameRate = 0.01 #//it will capture image in each 0.01 second\n",
    "count=1\n",
    "success = getFrame(sec)\n",
    "while success:\n",
    "    count = count + 1\n",
    "    sec = sec + frameRate\n",
    "    sec = round(sec, 2)\n",
    "    success = getFrame(sec)"
   ]
  },
  {
   "cell_type": "markdown",
   "metadata": {},
   "source": [
    "#### Convert the images into a single matrix"
   ]
  },
  {
   "cell_type": "code",
   "execution_count": 2,
   "metadata": {},
   "outputs": [],
   "source": [
    "# Set the path for images\n",
    "mypath = '/Users/frafiei3/Desktop/Georgia Tech/Special problems/Code/Converted Images'\n",
    "\n",
    "# Find all the images in the path\n",
    "onlyfiles = [ f for f in listdir(mypath) if isfile(join(mypath,f)) ]\n",
    "onlyfiles = [ f for f in onlyfiles if image_format in f]\n",
    "\n",
    "# Find the dimension of the images\n",
    "img_rows, img_cols, depth = cv2.imread(join(mypath,onlyfiles[0])).shape\n",
    "\n",
    "# Set an empty matrix corresponding to the dimension of images and number of frames\n",
    "images_grey = np.empty([img_rows, img_cols, depth, len(onlyfiles)], dtype=object)\n",
    "# images_grey = np.empty([320, 320, len(onlyfiles)], dtype=object)\n",
    "\n",
    "# Convert RGB images into gray scale images and store them in a single matrix\n",
    "for n in range(len(onlyfiles)):\n",
    "    images_grey[:,:,:,n] = cv2.cvtColor(cv2.imread(join(mypath,onlyfiles[n])), cv2.COLOR_BGR2YCR_CB)\n",
    "#     img = cv2.cvtColor(cv2.imread(join(mypath,onlyfiles[n])), cv2.COLOR_BGR2YCR_CB)\n",
    "#     img = img[:,:,0]\n",
    "#     images_grey[:,:,n] = cv2.resize(img, (320, 320))\n",
    "    "
   ]
  },
  {
   "cell_type": "code",
   "execution_count": 7,
   "metadata": {},
   "outputs": [
    {
     "data": {
      "text/plain": [
       "(192, 320, 1168)"
      ]
     },
     "execution_count": 7,
     "metadata": {},
     "output_type": "execute_result"
    }
   ],
   "source": [
    "images_grey = images_grey[:,:,0,:]\n",
    "data = np.array(images_grey,dtype='float64')\n",
    "data.shape"
   ]
  },
  {
   "cell_type": "code",
   "execution_count": 8,
   "metadata": {},
   "outputs": [
    {
     "data": {
      "text/plain": [
       "(192, 320, 1168)"
      ]
     },
     "execution_count": 8,
     "metadata": {},
     "output_type": "execute_result"
    }
   ],
   "source": [
    "# Find the luminance matrix\n",
    "L = 413.435 * (0.002745 * data + 0.0189623)**2.2\n",
    "L.shape"
   ]
  },
  {
   "cell_type": "code",
   "execution_count": 9,
   "metadata": {},
   "outputs": [],
   "source": [
    "#  Step 1: Compute the brightness difference\n",
    "deltaL = np.diff(L, axis=2)\n",
    "\n",
    "# Step 2: Generate the histograms\n",
    "numBins, numFrames = 10, deltaL.shape[2]\n",
    "h_positive = np.empty(shape=[numBins, numFrames], dtype=int)\n",
    "h_negative = np.empty(shape=[numBins, numFrames], dtype=int)\n",
    "for frame in range(deltaL.shape[2]):\n",
    "    h_positive[:, frame], bin_edges_positive = np.histogram(deltaL[deltaL[:,:,frame]>=0, frame], bins=numBins, range=(0, deltaL.max()))\n",
    "    h_negative[:, frame], bin_edges_negative = np.histogram(deltaL[deltaL[:,:,frame]<0, frame], bins=numBins, range=(deltaL.min(), 0))\n",
    "    "
   ]
  },
  {
   "cell_type": "code",
   "execution_count": 10,
   "metadata": {},
   "outputs": [],
   "source": [
    "# Step 3 and 4: Compute the average brightness variation\n",
    "threshold = 0.25 * L.shape[0] * L.shape[1] # minimum number of pixels to define flash area\n",
    "meanDeltaL_positive = np.zeros(h_positive.shape)\n",
    "meanDeltaL_negative = np.zeros(h_negative.shape)\n",
    "out_positive = np.where(h_positive > threshold) # index of positive histograms greater than threshold\n",
    "out_negative = np.where(h_negative > threshold) # index of negative histograms greater than threshold\n",
    "\n",
    "def compute_mean_in_range(data, interval):\n",
    "    idx = np.where(np.logical_and(data>=interval[0], data<interval[1]))\n",
    "    meanInRange = np.mean(data[idx])\n",
    "    return meanInRange\n",
    "\n",
    "for frame in range(meanDeltaL_positive.shape[1]):\n",
    "    if frame in out_positive[1]:\n",
    "        idx = np.where(out_positive[1]==frame)\n",
    "        for i in range(len(idx[0])):\n",
    "            bin_i = out_positive[0][idx[0][i]]\n",
    "            binMean = compute_mean_in_range(deltaL[:,:,frame], bin_edges_positive[bin_i:bin_i+2])\n",
    "            meanDeltaL_positive[bin_i, frame] = binMean\n",
    "            \n",
    "    if frame in out_negative[1]:\n",
    "        idx = np.where(out_negative[1]==frame)\n",
    "        for i in range(len(idx[0])):\n",
    "            bin_i = out_negative[0][idx[0][i]]\n",
    "            binMean = compute_mean_in_range(deltaL[:,:,frame], bin_edges_negative[bin_i:bin_i+2])\n",
    "            meanDeltaL_negative[bin_i, frame] = binMean\n",
    "    \n",
    "meanDeltaL = np.concatenate((meanDeltaL_positive, meanDeltaL_negative), axis=0)"
   ]
  },
  {
   "cell_type": "code",
   "execution_count": 11,
   "metadata": {},
   "outputs": [],
   "source": [
    "# Find the highest value in the average brightness variation\n",
    "def compute_value_with_max_abs(meanDeltaL):\n",
    "    a = np.zeros((meanDeltaL.shape[1],1))\n",
    "    for frame in range(meanDeltaL.shape[1]):\n",
    "        a[frame] = max(np.max(meanDeltaL[:,frame]), np.min(meanDeltaL[:,frame]), key=abs)\n",
    "    return a\n",
    "\n",
    "maxMeanDeltaL = compute_value_with_max_abs(meanDeltaL)"
   ]
  },
  {
   "cell_type": "code",
   "execution_count": 12,
   "metadata": {},
   "outputs": [],
   "source": [
    "# Step 5 and 6: accumulate the brightness variation with same sign and find the flashes\n",
    "def accumulation_function(maxMeanDeltaL):\n",
    "    accDeltaL = np.zeros(maxMeanDeltaL.shape)\n",
    "    accDeltaL[0] = maxMeanDeltaL[0]\n",
    "    acc = maxMeanDeltaL[0]\n",
    "    for frame in range(len(maxMeanDeltaL)):\n",
    "        if maxMeanDeltaL[frame]*maxMeanDeltaL[frame-1] < 0:\n",
    "            acc = 0\n",
    "        acc = acc + maxMeanDeltaL[frame]\n",
    "        accDeltaL[frame] = acc\n",
    "    return accDeltaL\n",
    "\n",
    "accDeltaL = accumulation_function(maxMeanDeltaL)"
   ]
  },
  {
   "cell_type": "code",
   "execution_count": 13,
   "metadata": {},
   "outputs": [
    {
     "data": {
      "image/png": "[encoded data removed]",
      "text/plain": [
       "<Figure size 432x288 with 1 Axes>"
      ]
     },
     "metadata": {
      "needs_background": "light"
     },
     "output_type": "display_data"
    }
   ],
   "source": [
    "plt.plot(accDeltaL)\n",
    "plt.xlabel('# Frame')\n",
    "plt.ylabel('$\\Delta$L_acc (cd / $m^2$)')\n",
    "plt.show()"
   ]
  },
  {
   "cell_type": "code",
   "execution_count": 14,
   "metadata": {},
   "outputs": [],
   "source": [
    "# Find the local maxima/minima\n",
    "maxDeltaL = 20 # intensities above which flashesh are considered harmful\n",
    "localMaxima_idx = argrelextrema(accDeltaL, np.greater)\n",
    "localMaxima = accDeltaL[localMaxima_idx]\n",
    "localMaxima, localMaxima_idx = localMaxima[localMaxima>maxDeltaL], localMaxima_idx[0][localMaxima>maxDeltaL]\n",
    "\n",
    "localMinima_idx = argrelextrema(accDeltaL, np.less)\n",
    "localMinima = accDeltaL[localMinima_idx]\n",
    "localMinima, localMinima_idx = localMinima[localMinima<-maxDeltaL], localMinima_idx[0][localMinima<-maxDeltaL]"
   ]
  },
  {
   "cell_type": "code",
   "execution_count": 15,
   "metadata": {},
   "outputs": [],
   "source": [
    "extremaFrames_idx = np.concatenate([localMaxima_idx, localMinima_idx])\n",
    "extremaFrames_accDeltaL = np.concatenate([localMaxima, localMinima])\n",
    "\n",
    "extremaFrames_accDeltaL = extremaFrames_accDeltaL[np.argsort(extremaFrames_idx)]\n",
    "extremaFrames_idx = extremaFrames_idx[np.argsort(extremaFrames_idx)]\n",
    "mean_L = np.mean(np.mean(L, axis=0), axis=0)\n",
    "extremaFrames_L = mean_L[extremaFrames_idx]"
   ]
  },
  {
   "cell_type": "code",
   "execution_count": 16,
   "metadata": {},
   "outputs": [],
   "source": [
    "def evaluate_video(extremaFrames_idx, extremaFrames_L, numFrames):\n",
    "    window = 100 # number of frames being evaluated\n",
    "    darkImagesThreshold = 160\n",
    "    fflash = 3 # frequency above which flashesh are considered harmful\n",
    "    \n",
    "    firstFrame, lastFrame = 0, window\n",
    "    stride = 1\n",
    "    while lastFrame < numFrames:\n",
    "        count = np.sum(np.logical_and(extremaFrames_idx>firstFrame, extremaFrames_idx<lastFrame))\n",
    "        if count > fflash:\n",
    "            print('Video is harmful')\n",
    "            break\n",
    "        firstFrame = firstFrame + stride\n",
    "        lastFrame = lastFrame + stride\n",
    "        \n",
    "    if lastFrame == numFrames:\n",
    "        print('Video is safe')\n",
    "    "
   ]
  },
  {
   "cell_type": "code",
   "execution_count": 17,
   "metadata": {},
   "outputs": [
    {
     "name": "stdout",
     "output_type": "stream",
     "text": [
      "Video is harmful\n"
     ]
    }
   ],
   "source": [
    "evaluate_video(extremaFrames_idx, extremaFrames_L, np.shape(data)[2])"
   ]
  },
  {
   "cell_type": "code",
   "execution_count": null,
   "metadata": {},
   "outputs": [],
   "source": []
  }
 ],
 "metadata": {
  "kernelspec": {
   "display_name": "Python 3",
   "language": "python",
   "name": "python3"
  },
  "language_info": {
   "codemirror_mode": {
    "name": "ipython",
    "version": 3
   },
   "file_extension": ".py",
   "mimetype": "text/x-python",
   "name": "python",
   "nbconvert_exporter": "python",
   "pygments_lexer": "ipython3",
   "version": "3.7.1"
  }
 },
 "nbformat": 4,
 "nbformat_minor": 2
}
